{
 "cells": [
  {
   "cell_type": "markdown",
   "metadata": {},
   "source": [
    "# <center> **Predicting survival on the Titanic with Machine Learning models**"
   ]
  },
  {
   "cell_type": "markdown",
   "metadata": {},
   "source": [
    "# <center> **Abstract**\n",
    "\n",
    "In this notebook, I aim to find which of five pre-chosen machine learning algorithms performs best in the task of predicting the survival status of passengers on the Titanic. The algorithms compared are Random Forest, kNN, Stochastic Gradient Descent, Logistic Regression, and Support Vector Machines. After inspecting the data, the methodology of the algorithms are reviewed, and the results of the implementations are finally presented. The algorithm that performed the best in my implementation\n",
    "was the Random Forest algorithm, with an average accuracy of 81.59%. Whether this can be generalized to the task as a whole can however not be concluded.\n"
   ]
  },
  {
   "cell_type": "markdown",
   "metadata": {},
   "source": [
    "# **1. Introduction**\n",
    "\n",
    "The data used to train the five machine learning algorithms is from a Kaggle competition called ’Titanic - Machine Learning\n",
    "from Disaster’, and it hold the details of 891 passengers on board and our target variable: whether they survived or not. The objective for each model is to predict the survival of a remaining 418 passengers in a test set where this target variable is unknown. Our goal is ultimately to find which of the five chosen models performs the best at this task, based on their respective accuracy, precision, recall, and F-score."
   ]
  },
  {
   "cell_type": "markdown",
   "metadata": {},
   "source": [
    "**Initialization**"
   ]
  },
  {
   "cell_type": "code",
   "execution_count": 162,
   "metadata": {
    "_cell_guid": "b1076dfc-b9ad-4769-8c92-a6c4dae69d19",
    "_uuid": "8f2839f25d086af736a60e9eeb907d3b93b6e0e5"
   },
   "outputs": [],
   "source": [
    "# Loading packages\n",
    "\n",
    "import numpy as np # linear algebra\n",
    "import pandas as pd # data processing, CSV file I/O (e.g. pd.read_csv)\n",
    "import seaborn # visualization\n",
    "import matplotlib.pyplot as plt # visualization\n",
    "\n",
    "# Algorithms\n",
    "\n",
    "from sklearn import linear_model\n",
    "from sklearn.ensemble import RandomForestClassifier\n",
    "from sklearn.linear_model import LogisticRegression\n",
    "from sklearn.neighbors import KNeighborsClassifier\n",
    "from sklearn.svm import SVC, LinearSVC\n",
    "\n",
    "# Hyperparameter tuning\n",
    "from sklearn.model_selection import GridSearchCV\n",
    "\n",
    "# Evaluation\n",
    "from sklearn import model_selection\n",
    "from sklearn.model_selection import cross_val_predict\n",
    "from sklearn.metrics import confusion_matrix\n",
    "from sklearn.metrics import recall_score, precision_score, f1_score"
   ]
  },
  {
   "cell_type": "markdown",
   "metadata": {},
   "source": [
    "# **2. Data inspection**"
   ]
  },
  {
   "cell_type": "markdown",
   "metadata": {},
   "source": [
    "The data provided in the competition is two files: train.csv, and test.csv. The train.csv file - our training data set - lists 891 passengers along with 12 features for each. The most notable features are the passengers’ name, age, sex, cabin\n",
    "class, and our target variable: whether they survived or not (a ”1” denoting that the passenger survived, and a ”0” denoting that they died). The test.csv file - our testing data set - lists the remaining 418 passengers in the passenger records of\n",
    "the Titanic, along with all the same features except that of survival, which is the value we will attempt to predict."
   ]
  },
  {
   "cell_type": "markdown",
   "metadata": {},
   "source": [
    "We inspect the first 5 rows of the training data:"
   ]
  },
  {
   "cell_type": "code",
   "execution_count": 163,
   "metadata": {},
   "outputs": [
    {
     "data": {
      "text/html": [
       "<div>\n",
       "<style scoped>\n",
       "    .dataframe tbody tr th:only-of-type {\n",
       "        vertical-align: middle;\n",
       "    }\n",
       "\n",
       "    .dataframe tbody tr th {\n",
       "        vertical-align: top;\n",
       "    }\n",
       "\n",
       "    .dataframe thead th {\n",
       "        text-align: right;\n",
       "    }\n",
       "</style>\n",
       "<table border=\"1\" class=\"dataframe\">\n",
       "  <thead>\n",
       "    <tr style=\"text-align: right;\">\n",
       "      <th></th>\n",
       "      <th>PassengerId</th>\n",
       "      <th>Survived</th>\n",
       "      <th>Pclass</th>\n",
       "      <th>Name</th>\n",
       "      <th>Sex</th>\n",
       "      <th>Age</th>\n",
       "      <th>SibSp</th>\n",
       "      <th>Parch</th>\n",
       "      <th>Ticket</th>\n",
       "      <th>Fare</th>\n",
       "      <th>Cabin</th>\n",
       "      <th>Embarked</th>\n",
       "    </tr>\n",
       "  </thead>\n",
       "  <tbody>\n",
       "    <tr>\n",
       "      <th>0</th>\n",
       "      <td>1</td>\n",
       "      <td>0</td>\n",
       "      <td>3</td>\n",
       "      <td>Braund, Mr. Owen Harris</td>\n",
       "      <td>male</td>\n",
       "      <td>22.0</td>\n",
       "      <td>1</td>\n",
       "      <td>0</td>\n",
       "      <td>A/5 21171</td>\n",
       "      <td>7.2500</td>\n",
       "      <td>NaN</td>\n",
       "      <td>S</td>\n",
       "    </tr>\n",
       "    <tr>\n",
       "      <th>1</th>\n",
       "      <td>2</td>\n",
       "      <td>1</td>\n",
       "      <td>1</td>\n",
       "      <td>Cumings, Mrs. John Bradley (Florence Briggs Th...</td>\n",
       "      <td>female</td>\n",
       "      <td>38.0</td>\n",
       "      <td>1</td>\n",
       "      <td>0</td>\n",
       "      <td>PC 17599</td>\n",
       "      <td>71.2833</td>\n",
       "      <td>C85</td>\n",
       "      <td>C</td>\n",
       "    </tr>\n",
       "    <tr>\n",
       "      <th>2</th>\n",
       "      <td>3</td>\n",
       "      <td>1</td>\n",
       "      <td>3</td>\n",
       "      <td>Heikkinen, Miss. Laina</td>\n",
       "      <td>female</td>\n",
       "      <td>26.0</td>\n",
       "      <td>0</td>\n",
       "      <td>0</td>\n",
       "      <td>STON/O2. 3101282</td>\n",
       "      <td>7.9250</td>\n",
       "      <td>NaN</td>\n",
       "      <td>S</td>\n",
       "    </tr>\n",
       "    <tr>\n",
       "      <th>3</th>\n",
       "      <td>4</td>\n",
       "      <td>1</td>\n",
       "      <td>1</td>\n",
       "      <td>Futrelle, Mrs. Jacques Heath (Lily May Peel)</td>\n",
       "      <td>female</td>\n",
       "      <td>35.0</td>\n",
       "      <td>1</td>\n",
       "      <td>0</td>\n",
       "      <td>113803</td>\n",
       "      <td>53.1000</td>\n",
       "      <td>C123</td>\n",
       "      <td>S</td>\n",
       "    </tr>\n",
       "    <tr>\n",
       "      <th>4</th>\n",
       "      <td>5</td>\n",
       "      <td>0</td>\n",
       "      <td>3</td>\n",
       "      <td>Allen, Mr. William Henry</td>\n",
       "      <td>male</td>\n",
       "      <td>35.0</td>\n",
       "      <td>0</td>\n",
       "      <td>0</td>\n",
       "      <td>373450</td>\n",
       "      <td>8.0500</td>\n",
       "      <td>NaN</td>\n",
       "      <td>S</td>\n",
       "    </tr>\n",
       "  </tbody>\n",
       "</table>\n",
       "</div>"
      ],
      "text/plain": [
       "   PassengerId  Survived  Pclass  \\\n",
       "0            1         0       3   \n",
       "1            2         1       1   \n",
       "2            3         1       3   \n",
       "3            4         1       1   \n",
       "4            5         0       3   \n",
       "\n",
       "                                                Name     Sex   Age  SibSp  \\\n",
       "0                            Braund, Mr. Owen Harris    male  22.0      1   \n",
       "1  Cumings, Mrs. John Bradley (Florence Briggs Th...  female  38.0      1   \n",
       "2                             Heikkinen, Miss. Laina  female  26.0      0   \n",
       "3       Futrelle, Mrs. Jacques Heath (Lily May Peel)  female  35.0      1   \n",
       "4                           Allen, Mr. William Henry    male  35.0      0   \n",
       "\n",
       "   Parch            Ticket     Fare Cabin Embarked  \n",
       "0      0         A/5 21171   7.2500   NaN        S  \n",
       "1      0          PC 17599  71.2833   C85        C  \n",
       "2      0  STON/O2. 3101282   7.9250   NaN        S  \n",
       "3      0            113803  53.1000  C123        S  \n",
       "4      0            373450   8.0500   NaN        S  "
      ]
     },
     "execution_count": 163,
     "metadata": {},
     "output_type": "execute_result"
    }
   ],
   "source": [
    "train_data = pd.read_csv('train.csv')\n",
    "train_data.head()"
   ]
  },
  {
   "cell_type": "markdown",
   "metadata": {},
   "source": [
    "And the first 5 rows of the testing data:"
   ]
  },
  {
   "cell_type": "code",
   "execution_count": 164,
   "metadata": {},
   "outputs": [
    {
     "data": {
      "text/html": [
       "<div>\n",
       "<style scoped>\n",
       "    .dataframe tbody tr th:only-of-type {\n",
       "        vertical-align: middle;\n",
       "    }\n",
       "\n",
       "    .dataframe tbody tr th {\n",
       "        vertical-align: top;\n",
       "    }\n",
       "\n",
       "    .dataframe thead th {\n",
       "        text-align: right;\n",
       "    }\n",
       "</style>\n",
       "<table border=\"1\" class=\"dataframe\">\n",
       "  <thead>\n",
       "    <tr style=\"text-align: right;\">\n",
       "      <th></th>\n",
       "      <th>PassengerId</th>\n",
       "      <th>Pclass</th>\n",
       "      <th>Name</th>\n",
       "      <th>Sex</th>\n",
       "      <th>Age</th>\n",
       "      <th>SibSp</th>\n",
       "      <th>Parch</th>\n",
       "      <th>Ticket</th>\n",
       "      <th>Fare</th>\n",
       "      <th>Cabin</th>\n",
       "      <th>Embarked</th>\n",
       "    </tr>\n",
       "  </thead>\n",
       "  <tbody>\n",
       "    <tr>\n",
       "      <th>0</th>\n",
       "      <td>892</td>\n",
       "      <td>3</td>\n",
       "      <td>Kelly, Mr. James</td>\n",
       "      <td>male</td>\n",
       "      <td>34.5</td>\n",
       "      <td>0</td>\n",
       "      <td>0</td>\n",
       "      <td>330911</td>\n",
       "      <td>7.8292</td>\n",
       "      <td>NaN</td>\n",
       "      <td>Q</td>\n",
       "    </tr>\n",
       "    <tr>\n",
       "      <th>1</th>\n",
       "      <td>893</td>\n",
       "      <td>3</td>\n",
       "      <td>Wilkes, Mrs. James (Ellen Needs)</td>\n",
       "      <td>female</td>\n",
       "      <td>47.0</td>\n",
       "      <td>1</td>\n",
       "      <td>0</td>\n",
       "      <td>363272</td>\n",
       "      <td>7.0000</td>\n",
       "      <td>NaN</td>\n",
       "      <td>S</td>\n",
       "    </tr>\n",
       "    <tr>\n",
       "      <th>2</th>\n",
       "      <td>894</td>\n",
       "      <td>2</td>\n",
       "      <td>Myles, Mr. Thomas Francis</td>\n",
       "      <td>male</td>\n",
       "      <td>62.0</td>\n",
       "      <td>0</td>\n",
       "      <td>0</td>\n",
       "      <td>240276</td>\n",
       "      <td>9.6875</td>\n",
       "      <td>NaN</td>\n",
       "      <td>Q</td>\n",
       "    </tr>\n",
       "    <tr>\n",
       "      <th>3</th>\n",
       "      <td>895</td>\n",
       "      <td>3</td>\n",
       "      <td>Wirz, Mr. Albert</td>\n",
       "      <td>male</td>\n",
       "      <td>27.0</td>\n",
       "      <td>0</td>\n",
       "      <td>0</td>\n",
       "      <td>315154</td>\n",
       "      <td>8.6625</td>\n",
       "      <td>NaN</td>\n",
       "      <td>S</td>\n",
       "    </tr>\n",
       "    <tr>\n",
       "      <th>4</th>\n",
       "      <td>896</td>\n",
       "      <td>3</td>\n",
       "      <td>Hirvonen, Mrs. Alexander (Helga E Lindqvist)</td>\n",
       "      <td>female</td>\n",
       "      <td>22.0</td>\n",
       "      <td>1</td>\n",
       "      <td>1</td>\n",
       "      <td>3101298</td>\n",
       "      <td>12.2875</td>\n",
       "      <td>NaN</td>\n",
       "      <td>S</td>\n",
       "    </tr>\n",
       "  </tbody>\n",
       "</table>\n",
       "</div>"
      ],
      "text/plain": [
       "   PassengerId  Pclass                                          Name     Sex  \\\n",
       "0          892       3                              Kelly, Mr. James    male   \n",
       "1          893       3              Wilkes, Mrs. James (Ellen Needs)  female   \n",
       "2          894       2                     Myles, Mr. Thomas Francis    male   \n",
       "3          895       3                              Wirz, Mr. Albert    male   \n",
       "4          896       3  Hirvonen, Mrs. Alexander (Helga E Lindqvist)  female   \n",
       "\n",
       "    Age  SibSp  Parch   Ticket     Fare Cabin Embarked  \n",
       "0  34.5      0      0   330911   7.8292   NaN        Q  \n",
       "1  47.0      1      0   363272   7.0000   NaN        S  \n",
       "2  62.0      0      0   240276   9.6875   NaN        Q  \n",
       "3  27.0      0      0   315154   8.6625   NaN        S  \n",
       "4  22.0      1      1  3101298  12.2875   NaN        S  "
      ]
     },
     "execution_count": 164,
     "metadata": {},
     "output_type": "execute_result"
    }
   ],
   "source": [
    "test_data = pd.read_csv(\"test.csv\")\n",
    "test_data.head()"
   ]
  },
  {
   "cell_type": "markdown",
   "metadata": {},
   "source": [
    "# **3. Data visualization**\n",
    "\n",
    "In order to find what features will be relevant in our predictions, it is useful to analyze and visualize some aspects of the data. First of all, one could assume that the survival rate of females on board is higher than that of males. When\n",
    "analyzing the ”Sex” and ”Survived” features in our training data set, we indeed\n",
    "find that whereas approximately 74 percent of the female passengers survived,\n",
    "only about 19 percent of the male passengers did:"
   ]
  },
  {
   "cell_type": "code",
   "execution_count": 165,
   "metadata": {},
   "outputs": [
    {
     "name": "stdout",
     "output_type": "stream",
     "text": [
      "Female survival rate: 0.7420382165605095\n",
      "Male survival rate: 0.18890814558058924\n"
     ]
    },
    {
     "data": {
      "image/png": "[encoded data removed]",
      "text/plain": [
       "<Figure size 216x144 with 1 Axes>"
      ]
     },
     "metadata": {
      "needs_background": "light"
     },
     "output_type": "display_data"
    }
   ],
   "source": [
    "# Survival rate of females vs males\n",
    "print(\"Female survival rate:\", train_data[\"Survived\"][train_data[\"Sex\"] == 'female'].value_counts(True)[1])\n",
    "print(\"Male survival rate:\", train_data[\"Survived\"][train_data[\"Sex\"] == 'male'].value_counts(True)[1])\n",
    "\n",
    "# Drawing the bar plot of survival w.r.t sex\n",
    "fig = plt.figure(figsize = (3, 2))\n",
    "ax = seaborn.barplot(x=\"Sex\", y=\"Survived\", data=train_data)\n",
    "\n",
    "ax.set_ylabel(\"Survived\", fontsize=12)\n",
    "ax.set_xlabel(\"Sex\", fontsize=12)\n",
    "plt.show()"
   ]
  },
  {
   "cell_type": "markdown",
   "metadata": {},
   "source": [
    "Second of all, newborns and children were most likely prioritized on the ship,\n",
    "and their survival rate should as such be higher. Grouping the passengers into\n",
    "age groups, we indeed find that the survival rate is the highest for infants, and\n",
    "steadily declines with the increase of age:"
   ]
  },
  {
   "cell_type": "code",
   "execution_count": 166,
   "metadata": {},
   "outputs": [
    {
     "name": "stdout",
     "output_type": "stream",
     "text": [
      "Infant survival rate: 0.625\n",
      "Child survival rate: 0.5555555555555556\n",
      "Teenager survival rate: 0.42857142857142855\n",
      "Adult survival rate: 0.3887884267631103\n",
      "Senior survival rate: 0.22727272727272727\n"
     ]
    },
    {
     "data": {
      "image/png": "[encoded data removed]",
      "text/plain": [
       "<Figure size 360x216 with 1 Axes>"
      ]
     },
     "metadata": {
      "needs_background": "light"
     },
     "output_type": "display_data"
    }
   ],
   "source": [
    "# Fill null values\n",
    "train_data[\"Age\"] = train_data[\"Age\"].fillna(-0.5)\n",
    "test_data[\"Age\"] = test_data[\"Age\"].fillna(-0.5)\n",
    "\n",
    "# Creating bins (converting the numeric 'age' variable to categorical)\n",
    "bins = [-1, 0, 2, 12, 18, 60, np.inf]\n",
    "labels = ['N/A', 'Infant', 'Child', 'Teenager', 'Adult', 'Senior']\n",
    "train_data['AgeGroup'] = pd.cut(train_data[\"Age\"], bins, labels = labels)\n",
    "test_data['AgeGroup'] = pd.cut(test_data[\"Age\"], bins, labels = labels)\n",
    "\n",
    "# Survival rate by age group\n",
    "print('Infant survival rate:', train_data[\"Survived\"][train_data[\"AgeGroup\"] == 'Infant'].value_counts(True)[1])\n",
    "print('Child survival rate:', train_data[\"Survived\"][train_data[\"AgeGroup\"] == 'Child'].value_counts(True)[1])\n",
    "print('Teenager survival rate:', train_data[\"Survived\"][train_data[\"AgeGroup\"] == 'Teenager'].value_counts(True)[1])\n",
    "print('Adult survival rate:', train_data[\"Survived\"][train_data[\"AgeGroup\"] == 'Adult'].value_counts(True)[1])\n",
    "print('Senior survival rate:', train_data[\"Survived\"][train_data[\"AgeGroup\"] == 'Senior'].value_counts(True)[1])\n",
    "\n",
    "# Drawing the bar plot of age vs survival\n",
    "fig = plt.figure(figsize = (5, 3))\n",
    "ax = seaborn.barplot(x=\"AgeGroup\", y=\"Survived\", data=train_data)\n",
    "ax.set_ylabel(\"Survived\", fontsize=12)\n",
    "ax.set_xlabel(\"Age Group\", fontsize=12)\n",
    "plt.show()"
   ]
  },
  {
   "cell_type": "markdown",
   "metadata": {},
   "source": [
    "Another feature that likely had great importance is what ticket class the passengers were travelling in. It is rather probable that the passengers who travelled\n",
    "1st class had a higher survival rate than those who travelled 2nd or 3rd. Drawing a plot, we indeed find a negative linear relationship between survival rate\n",
    "and ticket class. While over 62 percent of the passengers travelling in 1st class\n",
    "survived, this number drops down to 47 percent for 2nd class passengers and 24\n",
    "percent for those in 3rd class:"
   ]
  },
  {
   "cell_type": "code",
   "execution_count": 167,
   "metadata": {},
   "outputs": [
    {
     "name": "stdout",
     "output_type": "stream",
     "text": [
      "Survival rate of passengers in 1st class: 0.6296296296296297\n",
      "Survival rate of passengers in 2nd class: 0.47282608695652173\n",
      "Survival rate of passengers in 3rd class: 0.24236252545824846\n"
     ]
    },
    {
     "data": {
      "image/png": "[encoded data removed]",
      "text/plain": [
       "<Figure size 360x216 with 1 Axes>"
      ]
     },
     "metadata": {
      "needs_background": "light"
     },
     "output_type": "display_data"
    }
   ],
   "source": [
    "# Survival rate by Pclass\n",
    "print(\"Survival rate of passengers in 1st class:\", train_data[\"Survived\"][train_data[\"Pclass\"] == 1].value_counts(True)[1])\n",
    "print(\"Survival rate of passengers in 2nd class:\", train_data[\"Survived\"][train_data[\"Pclass\"] == 2].value_counts(True)[1])\n",
    "print(\"Survival rate of passengers in 3rd class:\", train_data[\"Survived\"][train_data[\"Pclass\"] == 3].value_counts(True)[1])\n",
    "\n",
    "# Drawing a bar plot of Pclass surival rates\n",
    "fig = plt.figure(figsize = (5, 3))\n",
    "ax = seaborn.barplot(x=\"Pclass\", y=\"Survived\", data=train_data)\n",
    "ax.set_ylabel(\"Survived\", fontsize=12)\n",
    "ax.set_xlabel('Ticket Class', fontsize=12)\n",
    "plt.show()"
   ]
  },
  {
   "cell_type": "markdown",
   "metadata": {},
   "source": [
    "Although there are more features we could include from the data set, it\n",
    "could be argued that sex, age, and ticket class are the three most important\n",
    "and independent ones. Fare, for example, should broadly be measuring the\n",
    "same thing as the ticket class, and including it might as such not provide much\n",
    "further insight for the classifiers. In fact, adding more features could potentially\n",
    "do more harm than good, since the more features a model has, the higher is the\n",
    "risk of overfitting. As such, we will only look at the Ticket Class, Sex, and Age for our training."
   ]
  },
  {
   "cell_type": "code",
   "execution_count": 168,
   "metadata": {},
   "outputs": [],
   "source": [
    "# Select features\n",
    "features = [\"Pclass\", \"Sex\", \"Age\"]\n",
    "\n",
    "# One-hot encoding\n",
    "X_train = pd.get_dummies(train_data[features])\n",
    "X_test = pd.get_dummies(test_data[features])"
   ]
  },
  {
   "cell_type": "markdown",
   "metadata": {},
   "source": [
    "# **4. Evaluation**\n",
    "\n",
    "There are many evaluation metrics for machine learning methods. Apart from accuracy, which is the amount of correct predictions out of all the predictions, we will furthermore consider the confusion matrix. The confusion matrix is a common evaluation metric when working with machine learning classifiers, and it is essentially a representation of the true positives $TP$, false negatives $FN$, false positives $FP$, and true negatives $TN$. With these values, we can calculate the precision, recall, and subsequently the F-score: \n",
    "\n",
    "<center>$Precision=\\frac{\\text { TP }}{\\text { TP }+\\text { FP }}$\n",
    "<center>$Recall=\\frac{\\text { TP }}{\\text { TP }+\\text { FN }}$\n",
    "<center>$F-score=\\frac{2\\times Precision \\times Recall}{\\text { Precision }+\\text { Recall }}$\n",
    "    \n",
    "In words, the precision can be described as the frequency with which positive identifications were actually correct, while recall is the frequency with which actual positives were correctly identified. The F-score is intended to combine the precision and recall to obtain a single measure of search effectiveness.\n",
    "    \n",
    "All algorithms were tested on the given dataset which was already split into approximately 70% training data and 30% testing data. The performance of all models was furthermore estimated with a 10-fold cross validation."
   ]
  },
  {
   "cell_type": "markdown",
   "metadata": {},
   "source": [
    "**Random Forest**"
   ]
  },
  {
   "cell_type": "code",
   "execution_count": 169,
   "metadata": {},
   "outputs": [
    {
     "name": "stdout",
     "output_type": "stream",
     "text": [
      "Accuracy: 81.373% (std: 2.159%, var:0.047%)\n"
     ]
    },
    {
     "data": {
      "image/png": "[encoded data removed]",
      "text/plain": [
       "<Figure size 432x288 with 2 Axes>"
      ]
     },
     "metadata": {
      "needs_background": "light"
     },
     "output_type": "display_data"
    }
   ],
   "source": [
    "# Overall accuracy with 10-fold cross validation\n",
    "k_fold = model_selection.KFold(n_splits=10)\n",
    "random_forest = RandomForestClassifier()\n",
    "results = model_selection.cross_val_score(random_forest, X_train, Y_train, cv=k_fold, scoring='accuracy')\n",
    "print(\"Accuracy: %.3f%% (std: %.3f%%, var:%.3f%%)\" % (results.mean()*100.0, results.std()*100.0, results.var()*100.0))\n",
    "\n",
    "\n",
    "# Confusion Matrix\n",
    "predictions = cross_val_predict(random_forest, X_train, Y_train, cv=10)\n",
    "random_forest_cm = confusion_matrix(Y_train, predictions)\n",
    "\n",
    "cm_heatmap = seaborn.heatmap(random_forest_cm, annot=True, cmap='Blues', fmt='g', xticklabels=['Died', 'Survived'], yticklabels=['Died', 'Survived'])\n",
    "cm_heatmap.xaxis.set_ticks_position('top')\n",
    "cm_heatmap.xaxis.set_label_position('top')\n",
    "cm_heatmap.set_xlabel('Predicted Values', fontsize = 15)\n",
    "cm_heatmap.set_ylabel('Actual Values', fontsize = 15)\n",
    "plt.show()"
   ]
  },
  {
   "cell_type": "code",
   "execution_count": 170,
   "metadata": {},
   "outputs": [
    {
     "name": "stdout",
     "output_type": "stream",
     "text": [
      "Precision: 0.7852564102564102\n",
      "Recall: 0.716374269005848\n",
      "F-score: 0.7492354740061162\n"
     ]
    }
   ],
   "source": [
    "# Precision, Recall, F-score\n",
    "\n",
    "print(\"Precision:\", precision_score(Y_train, predictions))\n",
    "print(\"Recall:\", recall_score(Y_train, predictions))\n",
    "print(\"F-score:\", f1_score(Y_train, predictions))"
   ]
  },
  {
   "cell_type": "code",
   "execution_count": 171,
   "metadata": {},
   "outputs": [],
   "source": [
    "# Save results for barplots later\n",
    "rf_acc = results.mean()*100.0\n",
    "rf_std = results.std()*100.0\n",
    "rf_prec = precision_score(Y_train, predictions)*100\n",
    "rf_rec = recall_score(Y_train, predictions)*100\n",
    "rf_f = f1_score(Y_train, predictions)*100"
   ]
  },
  {
   "cell_type": "markdown",
   "metadata": {},
   "source": [
    "**kNN**"
   ]
  },
  {
   "cell_type": "markdown",
   "metadata": {},
   "source": [
    "The performance of the kNN algorithm is greatly affected by the choice of $k$. While setting $k$ too low results in a classifier of low bias and high variance, setting $k$ too high will conversely lead to a model of low variance but high bias. I will find the optimal $k$ by using cross-validated grid search, with 5-fold cross-validation over a parameter grid where the range of $k$ is 1 to 25:"
   ]
  },
  {
   "cell_type": "code",
   "execution_count": 172,
   "metadata": {},
   "outputs": [
    {
     "name": "stdout",
     "output_type": "stream",
     "text": [
      "{'n_neighbors': 3}\n"
     ]
    },
    {
     "data": {
      "image/png": "[encoded data removed]",
      "text/plain": [
       "<Figure size 360x216 with 1 Axes>"
      ]
     },
     "metadata": {
      "needs_background": "light"
     },
     "output_type": "display_data"
    }
   ],
   "source": [
    "# Create a kNN model\n",
    "knn = KNeighborsClassifier()\n",
    "\n",
    "# Create a dictionary of all values we want to test for n_neighbors\n",
    "param_grid = {'n_neighbors': np.arange(1, 25)}\n",
    "\n",
    "# Use gridsearch to test all values for n_neighbors\n",
    "knn_gscv = GridSearchCV(knn, param_grid, cv=5)\n",
    "\n",
    "# Fit model to data\n",
    "knn_gscv.fit(X_train, Y_train)\n",
    "\n",
    "# Check top performing n_neighbors value\n",
    "print(knn_gscv.best_params_)\n",
    "\n",
    "# Plot\n",
    "fig = plt.figure(figsize = (5, 3))\n",
    "plt.plot(knn_gscv.cv_results_['param_n_neighbors'].data, knn_gscv.cv_results_['mean_test_score'])\n",
    "plt.xlabel(\"k\", fontsize = 12)\n",
    "plt.ylabel(\"Accuracy\", fontsize = 12)\n",
    "plt.show()"
   ]
  },
  {
   "cell_type": "markdown",
   "metadata": {},
   "source": [
    "It seems that the best value for $k$ (in terms of accuracy) is 3, so this is the value I will use for training the kNN."
   ]
  },
  {
   "cell_type": "code",
   "execution_count": 173,
   "metadata": {},
   "outputs": [
    {
     "name": "stdout",
     "output_type": "stream",
     "text": [
      "Accuracy: 78.567% (std: 3.473%, var:0.121%)\n"
     ]
    },
    {
     "data": {
      "image/png": "[encoded data removed]",
      "text/plain": [
       "<Figure size 432x288 with 2 Axes>"
      ]
     },
     "metadata": {
      "needs_background": "light"
     },
     "output_type": "display_data"
    }
   ],
   "source": [
    "# Overall accuracy with 10-fold cross validation\n",
    "k_fold = model_selection.KFold(n_splits=10)\n",
    "kNN = KNeighborsClassifier(n_neighbors = 3)\n",
    "results = model_selection.cross_val_score(kNN, X_train, Y_train, cv=k_fold, scoring='accuracy')\n",
    "print(\"Accuracy: %.3f%% (std: %.3f%%, var:%.3f%%)\" % (results.mean()*100.0, results.std()*100.0, results.var()*100.0))\n",
    "\n",
    "\n",
    "# Confusion Matrix\n",
    "predictions = cross_val_predict(kNN, X_train, Y_train, cv=10)\n",
    "kNN_cm = confusion_matrix(Y_train, predictions)\n",
    "\n",
    "cm_heatmap = seaborn.heatmap(kNN_cm, annot=True, cmap='Blues', fmt='g', xticklabels=['Died', 'Survived'], yticklabels=['Died', 'Survived'])\n",
    "cm_heatmap.xaxis.set_ticks_position('top')\n",
    "cm_heatmap.xaxis.set_label_position('top')\n",
    "cm_heatmap.set_xlabel('Predicted Values', fontsize = 15)\n",
    "cm_heatmap.set_ylabel('Actual Values', fontsize = 15)\n",
    "plt.show()"
   ]
  },
  {
   "cell_type": "code",
   "execution_count": 174,
   "metadata": {},
   "outputs": [
    {
     "name": "stdout",
     "output_type": "stream",
     "text": [
      "Precision: 0.7789115646258503\n",
      "Recall: 0.6695906432748538\n",
      "F-score: 0.720125786163522\n"
     ]
    }
   ],
   "source": [
    "# Precision, Recall, F-score\n",
    "\n",
    "print(\"Precision:\", precision_score(Y_train, predictions))\n",
    "print(\"Recall:\", recall_score(Y_train, predictions))\n",
    "print(\"F-score:\", f1_score(Y_train, predictions))"
   ]
  },
  {
   "cell_type": "code",
   "execution_count": 175,
   "metadata": {},
   "outputs": [],
   "source": [
    "# Save results for barplots later\n",
    "knn_acc = results.mean()*100.0\n",
    "knn_std = results.std()*100.0\n",
    "knn_prec = precision_score(Y_train, predictions)*100\n",
    "knn_rec = recall_score(Y_train, predictions)*100\n",
    "knn_f = f1_score(Y_train, predictions)*100"
   ]
  },
  {
   "cell_type": "markdown",
   "metadata": {},
   "source": [
    "**Stochastic Gradient Descent**"
   ]
  },
  {
   "cell_type": "code",
   "execution_count": 176,
   "metadata": {},
   "outputs": [
    {
     "name": "stdout",
     "output_type": "stream",
     "text": [
      "Accuracy: 69.693% (std: 10.110%, var:1.022%)\n"
     ]
    },
    {
     "data": {
      "image/png": "[encoded data removed]",
      "text/plain": [
       "<Figure size 432x288 with 2 Axes>"
      ]
     },
     "metadata": {
      "needs_background": "light"
     },
     "output_type": "display_data"
    }
   ],
   "source": [
    "# Overall accuracy with 10-fold cross validation\n",
    "k_fold = model_selection.KFold(n_splits=10)\n",
    "sgd = linear_model.SGDClassifier()\n",
    "results = model_selection.cross_val_score(sgd, X_train, Y_train, cv=k_fold, scoring='accuracy')\n",
    "print(\"Accuracy: %.3f%% (std: %.3f%%, var:%.3f%%)\" % (results.mean()*100.0, results.std()*100.0, results.var()*100.0))\n",
    "\n",
    "\n",
    "# Confusion Matrix\n",
    "predictions = cross_val_predict(sgd, X_train, Y_train, cv=10)\n",
    "sgd_cm = confusion_matrix(Y_train, predictions)\n",
    "\n",
    "cm_heatmap = seaborn.heatmap(sgd_cm, annot=True, cmap='Blues', fmt='g', xticklabels=['Died', 'Survived'], yticklabels=['Died', 'Survived'])\n",
    "cm_heatmap.xaxis.set_ticks_position('top')\n",
    "cm_heatmap.xaxis.set_label_position('top')\n",
    "cm_heatmap.set_xlabel('Predicted Values', fontsize = 15)\n",
    "cm_heatmap.set_ylabel('Actual Values', fontsize = 15)\n",
    "plt.show()"
   ]
  },
  {
   "cell_type": "code",
   "execution_count": 177,
   "metadata": {},
   "outputs": [
    {
     "name": "stdout",
     "output_type": "stream",
     "text": [
      "Precision: 0.6097560975609756\n",
      "Recall: 0.6578947368421053\n",
      "F-score: 0.6329113924050632\n"
     ]
    }
   ],
   "source": [
    "# Precision, Recall, F-score\n",
    "\n",
    "print(\"Precision:\", precision_score(Y_train, predictions))\n",
    "print(\"Recall:\", recall_score(Y_train, predictions))\n",
    "print(\"F-score:\", f1_score(Y_train, predictions))"
   ]
  },
  {
   "cell_type": "code",
   "execution_count": 178,
   "metadata": {},
   "outputs": [],
   "source": [
    "# Save results for barplots later\n",
    "sgd_acc = results.mean()*100.0\n",
    "sgd_std = results.std()*100.0\n",
    "sgd_prec = precision_score(Y_train, predictions)*100\n",
    "sgd_rec = recall_score(Y_train, predictions)*100\n",
    "sgd_f = f1_score(Y_train, predictions)*100"
   ]
  },
  {
   "cell_type": "markdown",
   "metadata": {},
   "source": [
    "**Logistic Regression**"
   ]
  },
  {
   "cell_type": "code",
   "execution_count": 179,
   "metadata": {},
   "outputs": [
    {
     "name": "stdout",
     "output_type": "stream",
     "text": [
      "Accuracy: 77.660% (std: 4.268%, var:0.182%)\n"
     ]
    },
    {
     "data": {
      "image/png": "[encoded data removed]",
      "text/plain": [
       "<Figure size 432x288 with 2 Axes>"
      ]
     },
     "metadata": {
      "needs_background": "light"
     },
     "output_type": "display_data"
    }
   ],
   "source": [
    "# Overall accuracy with 10-fold cross validation\n",
    "k_fold = model_selection.KFold(n_splits=10)\n",
    "logreg = LogisticRegression()\n",
    "results = model_selection.cross_val_score(logreg, X_train, Y_train, cv=k_fold, scoring='accuracy')\n",
    "print(\"Accuracy: %.3f%% (std: %.3f%%, var:%.3f%%)\" % (results.mean()*100.0, results.std()*100.0, results.var()*100.0))\n",
    "\n",
    "\n",
    "# Confusion Matrix\n",
    "predictions = cross_val_predict(logreg, X_train, Y_train, cv=10)\n",
    "logreg_cm = confusion_matrix(Y_train, predictions)\n",
    "\n",
    "cm_heatmap = seaborn.heatmap(logreg_cm, annot=True, cmap='Blues', fmt='g', xticklabels=['Died', 'Survived'], yticklabels=['Died', 'Survived'])\n",
    "cm_heatmap.xaxis.set_ticks_position('top')\n",
    "cm_heatmap.xaxis.set_label_position('top')\n",
    "cm_heatmap.set_xlabel('Predicted Values', fontsize = 15)\n",
    "cm_heatmap.set_ylabel('Actual Values', fontsize = 15)\n",
    "plt.show()"
   ]
  },
  {
   "cell_type": "code",
   "execution_count": 180,
   "metadata": {},
   "outputs": [
    {
     "name": "stdout",
     "output_type": "stream",
     "text": [
      "Precision: 0.7198795180722891\n",
      "Recall: 0.6988304093567251\n",
      "F-score: 0.7091988130563798\n"
     ]
    }
   ],
   "source": [
    "# Precision, Recall, F-score\n",
    "\n",
    "print(\"Precision:\", precision_score(Y_train, predictions))\n",
    "print(\"Recall:\", recall_score(Y_train, predictions))\n",
    "print(\"F-score:\", f1_score(Y_train, predictions))"
   ]
  },
  {
   "cell_type": "code",
   "execution_count": 181,
   "metadata": {},
   "outputs": [],
   "source": [
    "# Save results for barplots later\n",
    "lr_acc = results.mean()*100.0\n",
    "lr_std = results.std()*100.0\n",
    "lr_prec = precision_score(Y_train, predictions)*100\n",
    "lr_rec = recall_score(Y_train, predictions)*100\n",
    "lr_f = f1_score(Y_train, predictions)*100"
   ]
  },
  {
   "cell_type": "markdown",
   "metadata": {},
   "source": [
    "**Support Vector Machines**"
   ]
  },
  {
   "cell_type": "code",
   "execution_count": 182,
   "metadata": {},
   "outputs": [
    {
     "name": "stdout",
     "output_type": "stream",
     "text": [
      "Accuracy: 78.111% (std: 3.544%, var:0.126%)\n"
     ]
    },
    {
     "data": {
      "image/png": "[encoded data removed]",
      "text/plain": [
       "<Figure size 432x288 with 2 Axes>"
      ]
     },
     "metadata": {
      "needs_background": "light"
     },
     "output_type": "display_data"
    }
   ],
   "source": [
    "# Overall accuracy with 10-fold cross validation\n",
    "k_fold = model_selection.KFold(n_splits=10)\n",
    "linear_svc = LinearSVC(dual=False)\n",
    "results = model_selection.cross_val_score(linear_svc, X_train, Y_train, cv=k_fold, scoring='accuracy')\n",
    "print(\"Accuracy: %.3f%% (std: %.3f%%, var:%.3f%%)\" % (results.mean()*100.0, results.std()*100.0, results.var()*100.0))\n",
    "\n",
    "# Confusion Matrix\n",
    "predictions = cross_val_predict(linear_svc, X_train, Y_train, cv=10)\n",
    "svc_cm = confusion_matrix(Y_train, predictions)\n",
    "\n",
    "cm_heatmap = seaborn.heatmap(svc_cm, annot=True, cmap='Blues', fmt='g', xticklabels=['Died', 'Survived'], yticklabels=['Died', 'Survived'])\n",
    "cm_heatmap.xaxis.set_ticks_position('top')\n",
    "cm_heatmap.xaxis.set_label_position('top')\n",
    "cm_heatmap.set_xlabel('Predicted Values', fontsize = 15)\n",
    "cm_heatmap.set_ylabel('Actual Values', fontsize = 15)\n",
    "plt.show()"
   ]
  },
  {
   "cell_type": "code",
   "execution_count": 183,
   "metadata": {},
   "outputs": [
    {
     "name": "stdout",
     "output_type": "stream",
     "text": [
      "Precision: 0.7289719626168224\n",
      "Recall: 0.6842105263157895\n",
      "F-score: 0.7058823529411765\n"
     ]
    }
   ],
   "source": [
    "# Precision, Recall, F-score\n",
    "\n",
    "print(\"Precision:\", precision_score(Y_train, predictions))\n",
    "print(\"Recall:\", recall_score(Y_train, predictions))\n",
    "print(\"F-score:\", f1_score(Y_train, predictions))"
   ]
  },
  {
   "cell_type": "code",
   "execution_count": 184,
   "metadata": {},
   "outputs": [],
   "source": [
    "# Save results for barplots later\n",
    "svm_acc = results.mean()*100.0\n",
    "svm_std = results.std()*100.0\n",
    "svm_prec = precision_score(Y_train, predictions)*100\n",
    "svm_rec = recall_score(Y_train, predictions)*100\n",
    "svm_f = f1_score(Y_train, predictions)*100"
   ]
  },
  {
   "cell_type": "markdown",
   "metadata": {},
   "source": [
    "# **Conclusion**"
   ]
  },
  {
   "cell_type": "markdown",
   "metadata": {},
   "source": [
    "In the error bar plot below, we can see that the algorithm that performed the best in terms of average accuracy was the Random Forest model."
   ]
  },
  {
   "cell_type": "code",
   "execution_count": 185,
   "metadata": {},
   "outputs": [
    {
     "data": {
      "image/png": "[encoded data removed]",
      "text/plain": [
       "<Figure size 504x288 with 1 Axes>"
      ]
     },
     "metadata": {
      "needs_background": "light"
     },
     "output_type": "display_data"
    }
   ],
   "source": [
    "# Standard Deviation Error Bar\n",
    "\n",
    "fig = plt.figure(figsize = (7, 4))\n",
    "\n",
    "plt.errorbar( ['Random Forest', 'kNN', 'SGD', 'Logistic Regression', 'SVM'], [rf_acc, knn_acc, sgd_acc, lr_acc, svm_acc], yerr=[rf_std, knn_std, sgd_std, lr_std, svm_std], fmt='o', color='Black', elinewidth=3,capthick=3,errorevery=1, alpha=1, ms=4, capsize = 5)\n",
    "plt.bar(['Random Forest', 'kNN', 'SGD', 'Logistic Regression', 'SVM'], [rf_acc, knn_acc, sgd_acc, lr_acc, svm_acc],tick_label = ['Random Forest', 'kNN', 'SGD', 'Logistic Regression', 'SVM'], align='center', alpha=0.8, color='orange', ecolor='black', capsize=10)# Bar plot\n",
    "plt.xlabel('Model', fontsize = 15) # Label on X axis\n",
    "plt.ylabel('Accuracy in %', fontsize = 15) # Label on Y axis\n",
    "axes = plt.gca()\n",
    "axes.set_ylim([45,85])\n",
    "axes.yaxis.grid(True)\n",
    "plt.show()"
   ]
  },
  {
   "cell_type": "markdown",
   "metadata": {},
   "source": [
    "In the bar plot below, we can also see how the algorithms performed in the areas of precision,\n",
    "recall, and F-score. The Random Forest algorithm outperformed the other\n",
    "algorithms in all three categories."
   ]
  },
  {
   "cell_type": "code",
   "execution_count": 186,
   "metadata": {},
   "outputs": [
    {
     "name": "stdout",
     "output_type": "stream",
     "text": [
      "                 Model  Precision     Recall    F-score\n",
      "0        Random Forest  78.525641  71.637427  74.923547\n",
      "1                  kNN  77.891156  66.959064  72.012579\n",
      "2                  SGD  60.975610  65.789474  63.291139\n",
      "3  Logistic Regression  71.987952  69.883041  70.919881\n",
      "4                  SVM  72.897196  68.421053  70.588235\n"
     ]
    },
    {
     "data": {
      "image/png": "[encoded data removed]",
      "text/plain": [
       "<Figure size 504x288 with 1 Axes>"
      ]
     },
     "metadata": {
      "needs_background": "light"
     },
     "output_type": "display_data"
    }
   ],
   "source": [
    "# Precision, Recall, F-score Barplot\n",
    "\n",
    "# Create data\n",
    "df = pd.DataFrame([['Random Forest', rf_prec, rf_rec, rf_f], ['kNN', knn_prec, knn_rec, knn_f], ['SGD', sgd_prec, sgd_rec, sgd_f],\n",
    "                   ['Logistic Regression', lr_prec, lr_rec, lr_f], ['SVM', svm_prec, svm_rec, svm_f]],\n",
    "                  columns=['Model', 'Precision', 'Recall', 'F-score'])\n",
    "# View data\n",
    "print(df)\n",
    "  \n",
    "# Plot grouped bar chart\n",
    "ax = df.plot(x='Model',\n",
    "        kind='bar',\n",
    "        stacked=False,\n",
    "        ylim=[50, 80],\n",
    "        figsize=(7,4),\n",
    "        colormap='winter',\n",
    "        rot=0)\n",
    "\n",
    "ax.set_ylabel(\"Score in %\", fontsize=15)\n",
    "ax.set_xlabel('Model', fontsize=15)\n",
    "plt.show()"
   ]
  },
  {
   "cell_type": "markdown",
   "metadata": {},
   "source": [
    "As such, we can conclude that the model which performed the best in this\n",
    "particular implementation was the Random Forest algorithm. However, we cannot make any claims on whether this is the case in general for this classification\n",
    "task, as the standard deviations - especially that of the SGD - indicate that\n",
    "repeating the experiment could result in another algorithm taking the lead. For\n",
    "future research, it would be interesting to investigate why the performance of\n",
    "the SGD indeed fluctuates so greatly. In terms of improvements to this research,\n",
    "it would have been optimal to compute the feature importance, rather than intuitively decide which features to train the classifiers on. Moreover, one should\n",
    "further explore hyperparameter tuning options for all chosen algorithms, rather\n",
    "than only tune the kNN as was done in this notebook."
   ]
  }
 ],
 "metadata": {
  "kernelspec": {
   "display_name": "Python 3",
   "language": "python",
   "name": "python3"
  },
  "language_info": {
   "codemirror_mode": {
    "name": "ipython",
    "version": 3
   },
   "file_extension": ".py",
   "mimetype": "text/x-python",
   "name": "python",
   "nbconvert_exporter": "python",
   "pygments_lexer": "ipython3",
   "version": "3.8.10"
  }
 },
 "nbformat": 4,
 "nbformat_minor": 4
}
